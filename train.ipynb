{
 "cells": [
  {
   "cell_type": "code",
   "execution_count": 2,
   "id": "e33a2343-5612-4318-8792-455c23caa078",
   "metadata": {},
   "outputs": [
    {
     "name": "stdout",
     "output_type": "stream",
     "text": [
      "device=cuda\n",
      "第1轮...\n",
      "开始训练...\n"
     ]
    },
    {
     "name": "stderr",
     "output_type": "stream",
     "text": [
      "  0%|          | 0/1859 [00:00<?, ?it/s]/root/autodl-tmp/hyx/nlp/BiLSTM-CRF-NER/dataset.py:23: UserWarning: Creating a tensor from a list of numpy.ndarrays is extremely slow. Please consider converting the list to a single numpy.ndarray with numpy.array() before converting to a tensor. (Triggered internally at ../torch/csrc/utils/tensor_new.cpp:245.)\n",
      "  corpus = torch.tensor(self.corpus_list[item], dtype=torch.float32)\n",
      "100%|██████████| 1859/1859 [11:02<00:00,  2.81it/s, loss=2.99]\n"
     ]
    },
    {
     "name": "stdout",
     "output_type": "stream",
     "text": [
      "开始验证...\n",
      "第1轮训练结束，在发展集上非O标签的F1值为0.8433054646220657\n",
      "第2轮...\n",
      "开始训练...\n"
     ]
    },
    {
     "name": "stderr",
     "output_type": "stream",
     "text": [
      "100%|██████████| 1859/1859 [11:16<00:00,  2.75it/s, loss=0.831]\n"
     ]
    },
    {
     "name": "stdout",
     "output_type": "stream",
     "text": [
      "开始验证...\n",
      "第2轮训练结束，在发展集上非O标签的F1值为0.9064027256138798\n",
      "第3轮...\n",
      "开始训练...\n"
     ]
    },
    {
     "name": "stderr",
     "output_type": "stream",
     "text": [
      "100%|██████████| 1859/1859 [10:42<00:00,  2.89it/s, loss=0.0748]\n"
     ]
    },
    {
     "name": "stdout",
     "output_type": "stream",
     "text": [
      "开始验证...\n",
      "第3轮训练结束，在发展集上非O标签的F1值为0.9333353534085523\n",
      "第4轮...\n",
      "开始训练...\n"
     ]
    },
    {
     "name": "stderr",
     "output_type": "stream",
     "text": [
      "100%|██████████| 1859/1859 [10:46<00:00,  2.88it/s, loss=0.397]\n"
     ]
    },
    {
     "name": "stdout",
     "output_type": "stream",
     "text": [
      "开始验证...\n",
      "第4轮训练结束，在发展集上非O标签的F1值为0.9408407572383073\n",
      "第5轮...\n",
      "开始训练...\n"
     ]
    },
    {
     "name": "stderr",
     "output_type": "stream",
     "text": [
      "100%|██████████| 1859/1859 [10:45<00:00,  2.88it/s, loss=0.342]\n"
     ]
    },
    {
     "name": "stdout",
     "output_type": "stream",
     "text": [
      "开始验证...\n",
      "第5轮训练结束，在发展集上非O标签的F1值为0.9508443713598189\n",
      "第6轮...\n",
      "开始训练...\n"
     ]
    },
    {
     "name": "stderr",
     "output_type": "stream",
     "text": [
      "100%|██████████| 1859/1859 [10:56<00:00,  2.83it/s, loss=0.152]\n"
     ]
    },
    {
     "name": "stdout",
     "output_type": "stream",
     "text": [
      "开始验证...\n",
      "第6轮训练结束，在发展集上非O标签的F1值为0.9554884981321753\n",
      "第7轮...\n",
      "开始训练...\n"
     ]
    },
    {
     "name": "stderr",
     "output_type": "stream",
     "text": [
      "100%|██████████| 1859/1859 [10:35<00:00,  2.93it/s, loss=0.798] \n"
     ]
    },
    {
     "name": "stdout",
     "output_type": "stream",
     "text": [
      "开始验证...\n",
      "第7轮训练结束，在发展集上非O标签的F1值为0.9565419010099807\n",
      "第8轮...\n",
      "开始训练...\n"
     ]
    },
    {
     "name": "stderr",
     "output_type": "stream",
     "text": [
      "100%|██████████| 1859/1859 [10:33<00:00,  2.93it/s, loss=0.0283]\n"
     ]
    },
    {
     "name": "stdout",
     "output_type": "stream",
     "text": [
      "开始验证...\n",
      "第8轮训练结束，在发展集上非O标签的F1值为0.959340157621427\n",
      "第9轮...\n",
      "开始训练...\n"
     ]
    },
    {
     "name": "stderr",
     "output_type": "stream",
     "text": [
      "100%|██████████| 1859/1859 [10:34<00:00,  2.93it/s, loss=0.0643]\n"
     ]
    },
    {
     "name": "stdout",
     "output_type": "stream",
     "text": [
      "开始验证...\n",
      "第9轮训练结束，在发展集上非O标签的F1值为0.9618003639687978\n",
      "第10轮...\n",
      "开始训练...\n"
     ]
    },
    {
     "name": "stderr",
     "output_type": "stream",
     "text": [
      "100%|██████████| 1859/1859 [10:49<00:00,  2.86it/s, loss=0.441] \n"
     ]
    },
    {
     "name": "stdout",
     "output_type": "stream",
     "text": [
      "开始验证...\n",
      "第10轮训练结束，在发展集上非O标签的F1值为0.9616926191118464\n",
      "提前终止！！！\n"
     ]
    }
   ],
   "source": [
    "import train\n",
    "train.train(max_epoch=20, batch_size=256)"
   ]
  },
  {
   "cell_type": "code",
   "execution_count": null,
   "id": "3ea18dec-00f5-4bd1-ae25-0dac957b822d",
   "metadata": {},
   "outputs": [],
   "source": []
  }
 ],
 "metadata": {
  "kernelspec": {
   "display_name": "NLPpython",
   "language": "python",
   "name": "nlppython"
  },
  "language_info": {
   "codemirror_mode": {
    "name": "ipython",
    "version": 3
   },
   "file_extension": ".py",
   "mimetype": "text/x-python",
   "name": "python",
   "nbconvert_exporter": "python",
   "pygments_lexer": "ipython3",
   "version": "3.10.11"
  }
 },
 "nbformat": 4,
 "nbformat_minor": 5
}
